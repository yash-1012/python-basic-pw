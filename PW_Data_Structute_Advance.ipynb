{
  "nbformat": 4,
  "nbformat_minor": 0,
  "metadata": {
    "colab": {
      "provenance": [],
      "authorship_tag": "ABX9TyP55dRXRT2gshX38W+GCFEb",
      "include_colab_link": true
    },
    "kernelspec": {
      "name": "python3",
      "display_name": "Python 3"
    },
    "language_info": {
      "name": "python"
    }
  },
  "cells": [
    {
      "cell_type": "markdown",
      "metadata": {
        "id": "view-in-github",
        "colab_type": "text"
      },
      "source": [
        "<a href=\"https://colab.research.google.com/github/yash-1012/python-basic-pw/blob/main/PW_Data_Structute_Advance.ipynb\" target=\"_parent\"><img src=\"https://colab.research.google.com/assets/colab-badge.svg\" alt=\"Open In Colab\"/></a>"
      ]
    },
    {
      "cell_type": "markdown",
      "source": [
        "#Q2 Write a code to count the number of vowels in a string\n",
        "\n",
        "Program to count the number of vowels in a string:\n",
        "\n",
        "```python\n",
        "def count_vowels(s):\n",
        "    vowels = \"aeiouAEIOU\"  # Define vowels (both uppercase and lowercase)\n",
        "    count = sum(1 for char in s if char in vowels)  # Count vowels in the string\n",
        "    return count\n",
        "\n",
        "# Example usage\n",
        "string = \"Hello, World!\"\n",
        "vowel_count = count_vowels(string)\n",
        "print(\"Number of vowels:\", vowel_count)\n",
        "```\n",
        "\n",
        "### Output:\n",
        "```\n",
        "Number of vowels: 3\n",
        "```"
      ],
      "metadata": {
        "id": "oq7DI4t39dUB"
      }
    },
    {
      "cell_type": "markdown",
      "source": [
        "#Q3 Write a code to check if a given string is a palindrome or not.\n",
        "\n",
        "Program to check if a given string is a palindrome:\n",
        "\n",
        "```python\n",
        "def is_palindrome(s):\n",
        "    return s == s[::-1]  # Compare string with its reverse\n",
        "\n",
        "# Example usage\n",
        "string = \"madam\"\n",
        "if is_palindrome(string):\n",
        "    print(\"Palindrome\")\n",
        "else:\n",
        "    print(\"Not a palindrome\")\n",
        "\n",
        "```\n"
      ],
      "metadata": {
        "id": "WU9Cy4yt9_aw"
      }
    },
    {
      "cell_type": "markdown",
      "source": [
        "#Q4. Write a code to check if two given strings are anagrams of each other\n",
        "\n",
        "Program to check if two given strings are anagrams:  \n",
        "\n",
        "```python\n",
        "def are_anagrams(str1, str2):\n",
        "    return sorted(str1) == sorted(str2)  # Sort both strings and compare\n",
        "\n",
        "# Example usage\n",
        "string1 = \"listen\"\n",
        "string2 = \"silent\"\n",
        "\n",
        "if are_anagrams(string1, string2):\n",
        "    print(\"Anagrams\")\n",
        "else:\n",
        "    print(\"Not anagrams\")\n",
        "```\n"
      ],
      "metadata": {
        "id": "jASGQETeOBnv"
      }
    },
    {
      "cell_type": "markdown",
      "source": [
        "#Q5. Write a code to find all occurrences of a given substring within another string\n",
        "\n",
        "Program to find all occurrences of a given substring within another string:  \n",
        "\n",
        "```python\n",
        "def find_occurrences(text, substring):\n",
        "    indices = []\n",
        "    start = 0\n",
        "    while start < len(text):\n",
        "        index = text.find(substring, start)  # Find next occurrence\n",
        "        if index == -1:\n",
        "            break\n",
        "        indices.append(index)\n",
        "        start = index + 1  # Move start position forward\n",
        "    return indices\n",
        "\n",
        "# Example usage\n",
        "text = \"ababcabcab\"\n",
        "substring = \"ab\"\n",
        "print(\"Occurrences at indices:\", find_occurrences(text, substring))\n",
        "```\n",
        "\n",
        "\n",
        "### **Output:**\n",
        "```\n",
        "Occurrences at indices: [0, 2, 6, 8]\n",
        "```"
      ],
      "metadata": {
        "id": "pspgREEsOXAd"
      }
    },
    {
      "cell_type": "markdown",
      "source": [
        "#Q6 Write a code to perform basic string compression using the counts of repeated characters.\n",
        "\n",
        "Program to perform basic string compression using the counts of repeated characters:\n",
        "\n",
        "```python\n",
        "def compress_string(s):\n",
        "    compressed = []\n",
        "    count = 1\n",
        "\n",
        "    for i in range(1, len(s)):\n",
        "        if s[i] == s[i - 1]:  # If current char is same as previous\n",
        "            count += 1\n",
        "        else:\n",
        "            compressed.append(s[i - 1] + str(count))  # Append character and count\n",
        "            count = 1  # Reset count\n",
        "\n",
        "    compressed.append(s[-1] + str(count))  # Add the last character and its count\n",
        "    compressed_string = ''.join(compressed)\n",
        "\n",
        "    return compressed_string if len(compressed_string) < len(s) else s  # Return original if not shorter\n",
        "```\n",
        "\n",
        "# Example usage\n",
        "string = \"aaabbcddd\"\n",
        "print(compress_string(string))  # Output: \"a3b2c1d3\""
      ],
      "metadata": {
        "id": "lvITpmODPuz0"
      }
    },
    {
      "cell_type": "markdown",
      "source": [
        "#Q7 Write a code to determine if a string has all unique characters\n",
        "\n",
        "Here’s a **simple Python program** to check if a string has all unique characters:  \n",
        "\n",
        "```python\n",
        "def has_unique_chars(s):\n",
        "    return len(set(s)) == len(s)  # A set removes duplicates, so lengths should match\n",
        "\n",
        "# Example usage\n",
        "string = \"abcdef\"\n",
        "if has_unique_chars(string):\n",
        "    print(\"All characters are unique\")\n",
        "else:\n",
        "    print(\"Characters are not unique\")\n",
        "```"
      ],
      "metadata": {
        "id": "GAj_R0vMRD7y"
      }
    },
    {
      "cell_type": "markdown",
      "source": [
        "#Q8 Write a code to convert a given string to uppercase or lowercase.\n",
        "\n",
        "Program that converts a given string to uppercase or lowercase:  \n",
        "\n",
        "```python\n",
        "def convert_case(s, to_upper=True):\n",
        "    if to_upper:\n",
        "        return s.upper()  # Convert to uppercase\n",
        "    else:\n",
        "        return s.lower()  # Convert to lowercase\n",
        "\n",
        "# Example usage\n",
        "string = \"Hello, World!\"\n",
        "print(\"Uppercase:\", convert_case(string, to_upper=True))   # Output: \"HELLO, WORLD!\"\n",
        "print(\"Lowercase:\", convert_case(string, to_upper=False))  # Output: \"hello, world!\"\n",
        "```"
      ],
      "metadata": {
        "id": "YyZGltnBTkxO"
      }
    },
    {
      "cell_type": "markdown",
      "source": [
        "#Q9 Write a code to count the number of words in a string.\n",
        "\n",
        "Program to count the number of words in a string:\n",
        "\n",
        "```python\n",
        "def count_words(s):\n",
        "    return len(s.split())  # Split the string by spaces and count words\n",
        "\n",
        "# Example usage\n",
        "string = \"Hello, this is a simple test.\"\n",
        "print(\"Number of words:\", count_words(string))\n",
        "```"
      ],
      "metadata": {
        "id": "JCyIldiJUkMw"
      }
    },
    {
      "cell_type": "markdown",
      "source": [
        "#Q10 Write a code to concatenate two strings without using the + operator\n",
        "\n",
        "Program to concatenate two strings without using the + operator:  \n",
        "\n",
        "```python\n",
        "def concatenate_strings(s1, s2):\n",
        "    result = \"\"  # Empty string to store the result\n",
        "    for char in s1:\n",
        "        result += char  # Add characters of first string\n",
        "    for char in s2:\n",
        "        result += char  # Add characters of second string\n",
        "    return result\n",
        "\n",
        "# Example usage\n",
        "string1 = \"Hello\"\n",
        "string2 = \"World\"\n",
        "print(\"Concatenated String:\", concatenate_strings(string1, string2))\n",
        "```"
      ],
      "metadata": {
        "id": "6yRHXw-3VTt_"
      }
    },
    {
      "cell_type": "markdown",
      "source": [
        "#Q11 Write a code to remove all occurrences of a specific element from a list\n",
        "\n",
        "Program to remove all occurrences of a specific element from a list:  \n",
        "\n",
        "```python\n",
        "def remove_element(lst, element):\n",
        "    result = []\n",
        "    for x in lst:\n",
        "        if x != element:\n",
        "            result.append(x)  # Add only elements that are not equal to 'element'\n",
        "    return result\n",
        "\n",
        "# Example usage\n",
        "print(\"Updated List:\", remove_element([1, 2, 3, 2, 4, 2, 5], 2))\n",
        "```"
      ],
      "metadata": {
        "id": "zk3PwX71WFFG"
      }
    },
    {
      "cell_type": "markdown",
      "source": [
        "#Q12 Implement a code to find the second largest number in a given list of integers\n",
        "\n",
        "Program to find the second largest number in a list of integers:  \n",
        "\n",
        "```python\n",
        "def second_largest(lst):\n",
        "    unique_numbers = list(set(lst))  # Remove duplicates\n",
        "    if len(unique_numbers) < 2:\n",
        "        return \"No second largest number\"\n",
        "    unique_numbers.sort(reverse=True)  # Sort in descending order\n",
        "    return unique_numbers[1]  # Return second largest number\n",
        "\n",
        "# Example usage\n",
        "numbers = [10, 20, 4, 45, 99, 99, 33]\n",
        "print(\"Second largest number:\", second_largest(numbers))\n",
        "```"
      ],
      "metadata": {
        "id": "-p9-hRBeWm2r"
      }
    },
    {
      "cell_type": "markdown",
      "source": [
        "#Q13 Create a code to count the occurrences of each element in a list and return a dictionary with elements as keys and their counts as values\n",
        "\n",
        "Program to count the occurrences of each element in a list and return a dictionary:\n",
        "\n",
        "```python\n",
        "def count_occurrences(lst):\n",
        "    count_dict = {}  # Create an empty dictionary\n",
        "    for num in lst:\n",
        "        count_dict[num] = count_dict.get(num, 0) + 1  # Update count\n",
        "    return count_dict\n",
        "\n",
        "# Example usage\n",
        "numbers = [1, 2, 2, 3, 3, 3, 4, 4, 4, 4]\n",
        "print(\"Occurrences:\", count_occurrences(numbers))\n",
        "```"
      ],
      "metadata": {
        "id": "bT0vc9qYYPqp"
      }
    },
    {
      "cell_type": "markdown",
      "source": [
        "#Q14 Write a code to reverse a list in-place without using any built-in reverse functions\n",
        "\n",
        "Program to reverse a list in-place without using built-in reverse functions:  \n",
        "\n",
        "```python\n",
        "def reverse_list(lst):\n",
        "    left, right = 0, len(lst) - 1  # Set two pointers\n",
        "    while left < right:\n",
        "        lst[left], lst[right] = lst[right], lst[left]  # Swap elements\n",
        "        left += 1\n",
        "        right -= 1\n",
        "\n",
        "# Example usage\n",
        "numbers = [1, 2, 3, 4, 5]\n",
        "reverse_list(numbers)\n",
        "print(\"Reversed List:\", numbers)\n",
        "```"
      ],
      "metadata": {
        "id": "Jngy59UrYl9Y"
      }
    },
    {
      "cell_type": "markdown",
      "source": [
        "\t#Q15 Implement a code to find and remove duplicates from a list while preserving the original order of elements\n",
        "\n",
        "Program to find and remove duplicates from a list while preserving the original order:  \n",
        "\n",
        "```python\n",
        "def remove_duplicates(lst):\n",
        "    seen = set()  # Create an empty set to track seen elements\n",
        "    result = []   # List to store unique elements\n",
        "    for item in lst:\n",
        "        if item not in seen:\n",
        "            seen.add(item)  # Add to set if not seen before\n",
        "            result.append(item)  # Add to result list\n",
        "    return result\n",
        "\n",
        "# Example usage\n",
        "numbers = [1, 2, 2, 3, 4, 3, 5, 4, 6, 5]\n",
        "print(\"List without duplicates:\", remove_duplicates(numbers))\n",
        "```\n"
      ],
      "metadata": {
        "id": "8rmhXi63abss"
      }
    },
    {
      "cell_type": "markdown",
      "source": [
        "#Q16 Create a code to check if a given list is sorted (either in ascending or descending order) or not.\n",
        "\n",
        "Program to check if a given list is sorted in ascending or descending order:  \n",
        "\n",
        "```python\n",
        "def is_sorted(lst):\n",
        "    if lst == sorted(lst):  \n",
        "        return \"List is sorted in ascending order\"\n",
        "    elif lst == sorted(lst, reverse=True):  \n",
        "        return \"List is sorted in descending order\"\n",
        "    else:\n",
        "        return \"List is not sorted\"\n",
        "\n",
        "# Example usage\n",
        "numbers1 = [1, 2, 3, 4, 5]\n",
        "numbers2 = [5, 4, 3, 2, 1]\n",
        "numbers3 = [1, 3, 2, 4, 5]\n",
        "\n",
        "print(is_sorted(numbers1))  # Output: List is sorted in ascending order\n",
        "print(is_sorted(numbers2))  # Output: List is sorted in descending order\n",
        "print(is_sorted(numbers3))  # Output: List is not sorted\n",
        "```"
      ],
      "metadata": {
        "id": "1448SNGqdmlI"
      }
    },
    {
      "cell_type": "markdown",
      "source": [
        "#Q17 Write a code to merge two sorted lists into a single sorted list.\n",
        "\n",
        "Program to merge two sorted lists into a single sorted list:  \n",
        "\n",
        "```python\n",
        "def merge_sorted_lists(lst1, lst2):\n",
        "    i, j = 0, 0  # Pointers for both lists\n",
        "    merged_list = []\n",
        "    \n",
        "    while i < len(lst1) and j < len(lst2):\n",
        "        if lst1[i] < lst2[j]:\n",
        "            merged_list.append(lst1[i])\n",
        "            i += 1\n",
        "        else:\n",
        "            merged_list.append(lst2[j])\n",
        "            j += 1\n",
        "\n",
        "    # Add remaining elements\n",
        "    merged_list.extend(lst1[i:])\n",
        "    merged_list.extend(lst2[j:])\n",
        "    \n",
        "    return merged_list\n",
        "\n",
        "# Example usage\n",
        "list1 = [1, 3, 5, 7]\n",
        "list2 = [2, 4, 6, 8]\n",
        "print(\"Merged Sorted List:\", merge_sorted_lists(list1, list2))\n",
        "```\n"
      ],
      "metadata": {
        "id": "CTp6tgJReJ8B"
      }
    },
    {
      "cell_type": "markdown",
      "source": [
        "#Q18 Implement a code to find the intersection of two given lists.\n",
        "\n",
        "Program to find the intersection of two lists (common elements):  \n",
        "\n",
        "```python\n",
        "def list_intersection(lst1, lst2):\n",
        "    result = []\n",
        "    for num in lst1:\n",
        "        if num in lst2 and num not in result:  # Check if num exists in both lists\n",
        "            result.append(num)\n",
        "    return result\n",
        "\n",
        "# Example usage\n",
        "print(\"Intersection:\", list_intersection([1, 2, 3, 4, 5], [3, 4, 5, 6, 7]))\n",
        "```"
      ],
      "metadata": {
        "id": "BUd-JUkreviG"
      }
    },
    {
      "cell_type": "markdown",
      "source": [
        "#Q19 Create a code to find the union of two lists without duplicates.\n",
        "\n",
        "Program to find the union of two lists without duplicates:  \n",
        "\n",
        "```python\n",
        "def list_union(lst1, lst2):\n",
        "    result = []  \n",
        "    for num in lst1 + lst2:  # Combine both lists\n",
        "        if num not in result:  # Avoid duplicates\n",
        "            result.append(num)\n",
        "    return result\n",
        "\n",
        "# Example usage\n",
        "print(\"Union:\", list_union([1, 2, 3, 4, 5], [3, 4, 5, 6, 7]))\n",
        "```"
      ],
      "metadata": {
        "id": "y8OrUR-CfVSC"
      }
    },
    {
      "cell_type": "markdown",
      "source": [
        "#Q20 Write a code to shuffle a given list randomly without using any built-in shuffle functions.\n",
        "\n",
        "Program to shuffle a list randomly without using any built-in shuffle functions:  \n",
        "\n",
        "```python\n",
        "import random\n",
        "\n",
        "def custom_shuffle(lst):\n",
        "    n = len(lst)\n",
        "    for i in range(n - 1, 0, -1):  # Start from the last element\n",
        "        j = random.randint(0, i)  # Pick a random index from 0 to i\n",
        "        lst[i], lst[j] = lst[j], lst[i]  # Swap elements\n",
        "\n",
        "# Example usage\n",
        "numbers = [1, 2, 3, 4, 5]\n",
        "custom_shuffle(numbers)\n",
        "print(\"Shuffled List:\", numbers)\n",
        "```"
      ],
      "metadata": {
        "id": "gbF5YgvFf1jx"
      }
    },
    {
      "cell_type": "markdown",
      "source": [
        "#Q21 Write a code that takes two tuples as input and returns a new tuple containing elements that are common to both input tuples\n",
        "\n",
        "Program to find the common elements between two tuples and return a new tuple:  \n",
        "\n",
        "```python\n",
        "def common_elements(tuple1, tuple2):\n",
        "    result = []\n",
        "    for item in tuple1:\n",
        "        if item in tuple2 and item not in result:  # Check for common elements\n",
        "            result.append(item)\n",
        "    return tuple(result)  # Convert list to tuple\n",
        "\n",
        "# Example usage\n",
        "print(\"Common Elements:\", common_elements((1, 2, 3, 4, 5), (3, 4, 5, 6, 7)))\n",
        "```"
      ],
      "metadata": {
        "id": "fGV41nPogQbL"
      }
    },
    {
      "cell_type": "markdown",
      "source": [
        "#Q22 Create a code that prompts the user to enter two sets of integers separated by commas. Then, print the intersection of these two sets.\n",
        "\n",
        "Program that prompts the user to enter two sets of integers, then prints their intersection:  \n",
        "\n",
        "```python\n",
        "def get_set_from_input(prompt):\n",
        "    return set(map(int, input(prompt).split(',')))  # Convert input string to a set of integers\n",
        "\n",
        "# Get user input for two sets\n",
        "set1 = get_set_from_input(\"Enter first set of integers (comma-separated): \")\n",
        "set2 = get_set_from_input(\"Enter second set of integers (comma-separated): \")\n",
        "\n",
        "# Find intersection\n",
        "intersection_set = set1 & set2  # Using set intersection\n",
        "\n",
        "# Print result\n",
        "print(\"Intersection:\", intersection_set)\n",
        "```\n"
      ],
      "metadata": {
        "id": "EeGFBMOEhBfs"
      }
    },
    {
      "cell_type": "markdown",
      "source": [
        "#Q23 Write a code to concatenate two tuples. The function should take two tuples as input and return a new tuple containing elements from both input tuples.\n",
        "\n",
        "Program to concatenate two tuples and return a new tuple:  \n",
        "\n",
        "```python\n",
        "def concatenate_tuples(tuple1, tuple2):\n",
        "    return tuple1 + tuple2  # Use `+` to merge tuples\n",
        "\n",
        "# Example usage\n",
        "t1 = (1, 2, 3)\n",
        "t2 = (4, 5, 6)\n",
        "print(\"Concatenated Tuple:\", concatenate_tuples(t1, t2))\n",
        "```"
      ],
      "metadata": {
        "id": "iZHH7J0Ohehv"
      }
    }
  ]
}